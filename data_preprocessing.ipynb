{
 "metadata": {
  "language_info": {
   "codemirror_mode": {
    "name": "ipython",
    "version": 3
   },
   "file_extension": ".py",
   "mimetype": "text/x-python",
   "name": "python",
   "nbconvert_exporter": "python",
   "pygments_lexer": "ipython3",
   "version": "3.9.5"
  },
  "orig_nbformat": 2,
  "kernelspec": {
   "name": "python395jvsc74a57bd008bcf114b6799a788c3e4c5366ee28d230c9527aecb5fe8828812464fcb419b7",
   "display_name": "Python 3.9.5 64-bit (windows store)"
  },
  "metadata": {
   "interpreter": {
    "hash": "08bcf114b6799a788c3e4c5366ee28d230c9527aecb5fe8828812464fcb419b7"
   }
  }
 },
 "nbformat": 4,
 "nbformat_minor": 2,
 "cells": [
  {
   "cell_type": "code",
   "execution_count": 1,
   "metadata": {},
   "outputs": [],
   "source": [
    "import pandas as pd \n",
    "import streamlit as st\n",
    "from functools import reduce"
   ]
  },
  {
   "source": [
    "# Data Preprocessing"
   ],
   "cell_type": "markdown",
   "metadata": {}
  },
  {
   "source": [
    "1. The data contains missing values. For all three CSVs, use forward filling for imputing the missing data. Forward filling uses earlier values of the country for filling later ones (tip: there exist a Pandas function for that)"
   ],
   "cell_type": "markdown",
   "metadata": {}
  },
  {
   "cell_type": "code",
   "execution_count": 2,
   "metadata": {},
   "outputs": [],
   "source": [
    "life = pd.read_csv('C:/Users/deniz/OneDrive/Dokumente/GitHub/streamlit/life_expectancy_years.csv').fillna(method='ffill', axis=1)\n",
    "pop = pd.read_csv('C:/Users/deniz/OneDrive/Dokumente/GitHub/streamlit/population_total.csv').fillna(method='ffill', axis=1)\n",
    "gni = pd.read_csv('C:/Users/deniz/OneDrive/Dokumente/GitHub/streamlit/gnipercapita_ppp_current_international.csv').fillna(method='ffill', axis=1)\n",
    "gni = gni.fillna(method='bfill', axis=0)"
   ]
  },
  {
   "cell_type": "code",
   "execution_count": 5,
   "metadata": {},
   "outputs": [
    {
     "output_type": "execute_result",
     "data": {
      "text/plain": [
       "country    0\n",
       "1990       0\n",
       "1991       0\n",
       "1992       0\n",
       "1993       0\n",
       "1994       0\n",
       "1995       0\n",
       "1996       0\n",
       "1997       0\n",
       "1998       0\n",
       "1999       0\n",
       "2000       0\n",
       "2001       0\n",
       "2002       0\n",
       "2003       0\n",
       "2004       0\n",
       "2005       0\n",
       "2006       0\n",
       "2007       0\n",
       "2008       0\n",
       "2009       0\n",
       "2010       0\n",
       "2011       0\n",
       "2012       0\n",
       "2013       0\n",
       "2014       0\n",
       "2015       0\n",
       "2016       0\n",
       "2017       0\n",
       "2018       0\n",
       "2019       0\n",
       "dtype: int64"
      ]
     },
     "metadata": {},
     "execution_count": 5
    }
   ],
   "source": [
    "gni.isna().sum()"
   ]
  },
  {
   "source": [
    "2. For each CSV, transform the dataframe into a so called \"tidy data format\" (see e.g. https://en.wikipedia.org/wiki/Tidy_data). Each dataframe then should have only three columns: (1) country, (2) year, (3) the KPI (that means either a) life expectancy, b) population, or 3) GNI per capita)"
   ],
   "cell_type": "markdown",
   "metadata": {}
  },
  {
   "cell_type": "code",
   "execution_count": 10,
   "metadata": {},
   "outputs": [
    {
     "output_type": "execute_result",
     "data": {
      "text/plain": [
       "           country  year  life\n",
       "0      Afghanistan  1800  28.2\n",
       "53669  Afghanistan  2087  75.9\n",
       "2618   Afghanistan  1814  28.1\n",
       "15895  Afghanistan  1885  28.5\n",
       "40392  Afghanistan  2016  61.2\n",
       "28424  Afghanistan  1952  33.6\n",
       "27863  Afghanistan  1949  32.4\n",
       "48620  Afghanistan  2060  72.3\n",
       "7667   Afghanistan  1841  27.8\n",
       "23375  Afghanistan  1925  31.0"
      ],
      "text/html": "<div>\n<style scoped>\n    .dataframe tbody tr th:only-of-type {\n        vertical-align: middle;\n    }\n\n    .dataframe tbody tr th {\n        vertical-align: top;\n    }\n\n    .dataframe thead th {\n        text-align: right;\n    }\n</style>\n<table border=\"1\" class=\"dataframe\">\n  <thead>\n    <tr style=\"text-align: right;\">\n      <th></th>\n      <th>country</th>\n      <th>year</th>\n      <th>life</th>\n    </tr>\n  </thead>\n  <tbody>\n    <tr>\n      <th>0</th>\n      <td>Afghanistan</td>\n      <td>1800</td>\n      <td>28.2</td>\n    </tr>\n    <tr>\n      <th>53669</th>\n      <td>Afghanistan</td>\n      <td>2087</td>\n      <td>75.9</td>\n    </tr>\n    <tr>\n      <th>2618</th>\n      <td>Afghanistan</td>\n      <td>1814</td>\n      <td>28.1</td>\n    </tr>\n    <tr>\n      <th>15895</th>\n      <td>Afghanistan</td>\n      <td>1885</td>\n      <td>28.5</td>\n    </tr>\n    <tr>\n      <th>40392</th>\n      <td>Afghanistan</td>\n      <td>2016</td>\n      <td>61.2</td>\n    </tr>\n    <tr>\n      <th>28424</th>\n      <td>Afghanistan</td>\n      <td>1952</td>\n      <td>33.6</td>\n    </tr>\n    <tr>\n      <th>27863</th>\n      <td>Afghanistan</td>\n      <td>1949</td>\n      <td>32.4</td>\n    </tr>\n    <tr>\n      <th>48620</th>\n      <td>Afghanistan</td>\n      <td>2060</td>\n      <td>72.3</td>\n    </tr>\n    <tr>\n      <th>7667</th>\n      <td>Afghanistan</td>\n      <td>1841</td>\n      <td>27.8</td>\n    </tr>\n    <tr>\n      <th>23375</th>\n      <td>Afghanistan</td>\n      <td>1925</td>\n      <td>31.0</td>\n    </tr>\n  </tbody>\n</table>\n</div>"
     },
     "metadata": {},
     "execution_count": 10
    }
   ],
   "source": [
    "formatted_life = pd.melt(life,id_vars=[\"country\"], var_name=\"year\", value_name=\"life\")\n",
    "formatted_life = formatted_life.sort_values(by=[\"country\"])\n",
    "formatted_life.head(10)"
   ]
  },
  {
   "cell_type": "code",
   "execution_count": 11,
   "metadata": {},
   "outputs": [
    {
     "output_type": "execute_result",
     "data": {
      "text/plain": [
       "           country  year       pop\n",
       "0      Afghanistan  1800   3280000\n",
       "53625  Afghanistan  2075  76200000\n",
       "5070   Afghanistan  1826   3370000\n",
       "56355  Afghanistan  2089  76800000\n",
       "9165   Afghanistan  1847   3700000\n",
       "49530  Afghanistan  2054  67400000\n",
       "12090  Afghanistan  1862   3980000\n",
       "24180  Afghanistan  1924   9200000\n",
       "34515  Afghanistan  1977  13200000\n",
       "29835  Afghanistan  1953   8040000"
      ],
      "text/html": "<div>\n<style scoped>\n    .dataframe tbody tr th:only-of-type {\n        vertical-align: middle;\n    }\n\n    .dataframe tbody tr th {\n        vertical-align: top;\n    }\n\n    .dataframe thead th {\n        text-align: right;\n    }\n</style>\n<table border=\"1\" class=\"dataframe\">\n  <thead>\n    <tr style=\"text-align: right;\">\n      <th></th>\n      <th>country</th>\n      <th>year</th>\n      <th>pop</th>\n    </tr>\n  </thead>\n  <tbody>\n    <tr>\n      <th>0</th>\n      <td>Afghanistan</td>\n      <td>1800</td>\n      <td>3280000</td>\n    </tr>\n    <tr>\n      <th>53625</th>\n      <td>Afghanistan</td>\n      <td>2075</td>\n      <td>76200000</td>\n    </tr>\n    <tr>\n      <th>5070</th>\n      <td>Afghanistan</td>\n      <td>1826</td>\n      <td>3370000</td>\n    </tr>\n    <tr>\n      <th>56355</th>\n      <td>Afghanistan</td>\n      <td>2089</td>\n      <td>76800000</td>\n    </tr>\n    <tr>\n      <th>9165</th>\n      <td>Afghanistan</td>\n      <td>1847</td>\n      <td>3700000</td>\n    </tr>\n    <tr>\n      <th>49530</th>\n      <td>Afghanistan</td>\n      <td>2054</td>\n      <td>67400000</td>\n    </tr>\n    <tr>\n      <th>12090</th>\n      <td>Afghanistan</td>\n      <td>1862</td>\n      <td>3980000</td>\n    </tr>\n    <tr>\n      <th>24180</th>\n      <td>Afghanistan</td>\n      <td>1924</td>\n      <td>9200000</td>\n    </tr>\n    <tr>\n      <th>34515</th>\n      <td>Afghanistan</td>\n      <td>1977</td>\n      <td>13200000</td>\n    </tr>\n    <tr>\n      <th>29835</th>\n      <td>Afghanistan</td>\n      <td>1953</td>\n      <td>8040000</td>\n    </tr>\n  </tbody>\n</table>\n</div>"
     },
     "metadata": {},
     "execution_count": 11
    }
   ],
   "source": [
    "formatted_pop = pd.melt(pop,id_vars=[\"country\"], var_name=\"year\", value_name=\"pop\")\n",
    "formatted_pop = formatted_pop.sort_values(by=[\"country\"])\n",
    "formatted_pop.head(10)"
   ]
  },
  {
   "cell_type": "code",
   "execution_count": 17,
   "metadata": {},
   "outputs": [
    {
     "output_type": "execute_result",
     "data": {
      "text/plain": [
       "          country  year          GNI\n",
       "0     Afghanistan  1990  Afghanistan\n",
       "3348  Afghanistan  2008  Afghanistan\n",
       "3162  Afghanistan  2007  Afghanistan\n",
       "2976  Afghanistan  2006  Afghanistan\n",
       "5022  Afghanistan  2017       2230.0\n",
       "2790  Afghanistan  2005  Afghanistan\n",
       "2604  Afghanistan  2004  Afghanistan\n",
       "2418  Afghanistan  2003  Afghanistan\n",
       "2232  Afghanistan  2002  Afghanistan\n",
       "2046  Afghanistan  2001  Afghanistan"
      ],
      "text/html": "<div>\n<style scoped>\n    .dataframe tbody tr th:only-of-type {\n        vertical-align: middle;\n    }\n\n    .dataframe tbody tr th {\n        vertical-align: top;\n    }\n\n    .dataframe thead th {\n        text-align: right;\n    }\n</style>\n<table border=\"1\" class=\"dataframe\">\n  <thead>\n    <tr style=\"text-align: right;\">\n      <th></th>\n      <th>country</th>\n      <th>year</th>\n      <th>GNI</th>\n    </tr>\n  </thead>\n  <tbody>\n    <tr>\n      <th>0</th>\n      <td>Afghanistan</td>\n      <td>1990</td>\n      <td>Afghanistan</td>\n    </tr>\n    <tr>\n      <th>3348</th>\n      <td>Afghanistan</td>\n      <td>2008</td>\n      <td>Afghanistan</td>\n    </tr>\n    <tr>\n      <th>3162</th>\n      <td>Afghanistan</td>\n      <td>2007</td>\n      <td>Afghanistan</td>\n    </tr>\n    <tr>\n      <th>2976</th>\n      <td>Afghanistan</td>\n      <td>2006</td>\n      <td>Afghanistan</td>\n    </tr>\n    <tr>\n      <th>5022</th>\n      <td>Afghanistan</td>\n      <td>2017</td>\n      <td>2230.0</td>\n    </tr>\n    <tr>\n      <th>2790</th>\n      <td>Afghanistan</td>\n      <td>2005</td>\n      <td>Afghanistan</td>\n    </tr>\n    <tr>\n      <th>2604</th>\n      <td>Afghanistan</td>\n      <td>2004</td>\n      <td>Afghanistan</td>\n    </tr>\n    <tr>\n      <th>2418</th>\n      <td>Afghanistan</td>\n      <td>2003</td>\n      <td>Afghanistan</td>\n    </tr>\n    <tr>\n      <th>2232</th>\n      <td>Afghanistan</td>\n      <td>2002</td>\n      <td>Afghanistan</td>\n    </tr>\n    <tr>\n      <th>2046</th>\n      <td>Afghanistan</td>\n      <td>2001</td>\n      <td>Afghanistan</td>\n    </tr>\n  </tbody>\n</table>\n</div>"
     },
     "metadata": {},
     "execution_count": 17
    }
   ],
   "source": [
    "formatted_gni = pd.melt(gni,id_vars=[\"country\"], var_name=\"year\", value_name=\"GNI\")\n",
    "formatted_gni = formatted_gni.sort_values(by=[\"country\"])\n",
    "formatted_gni.head(10)"
   ]
  },
  {
   "source": [
    "3. You have to merge all three CVS. Merge the three dataframe into one dataframe, that just has 5 columns (country, year and all three KPIs from the three dataframes)"
   ],
   "cell_type": "markdown",
   "metadata": {}
  },
  {
   "cell_type": "code",
   "execution_count": 16,
   "metadata": {},
   "outputs": [
    {
     "output_type": "execute_result",
     "data": {
      "text/plain": [
       "11000.0        25\n",
       "860.0          23\n",
       "10200.0        23\n",
       "Djibouti       23\n",
       "South Sudan    21\n",
       "               ..\n",
       "5300.0          1\n",
       "9140.0          1\n",
       "58300.0         1\n",
       "88700.0         1\n",
       "5330.0          1\n",
       "Name: GNI, Length: 1465, dtype: int64"
      ]
     },
     "metadata": {},
     "execution_count": 16
    }
   ],
   "source": [
    "data_frames = [formatted_life, formatted_pop, formatted_gni]\n",
    "df_merged = reduce(lambda  left,right: pd.merge(left,right,on=['country', 'year'], how='outer'), data_frames)\n",
    "df_merged.GNI.value_counts()"
   ]
  },
  {
   "cell_type": "code",
   "execution_count": 22,
   "metadata": {},
   "outputs": [
    {
     "output_type": "execute_result",
     "data": {
      "text/plain": [
       "       country  year life_exp       pop     GNI\n",
       "0  Afghanistan  1800     28.2   3280000     NaN\n",
       "1  Afghanistan  2087     75.9  76900000     NaN\n",
       "2  Afghanistan  1814     28.1   3280000     NaN\n",
       "3  Afghanistan  1885     28.5   4460000     NaN\n",
       "4  Afghanistan  2016     61.2  35400000  2150.0"
      ],
      "text/html": "<div>\n<style scoped>\n    .dataframe tbody tr th:only-of-type {\n        vertical-align: middle;\n    }\n\n    .dataframe tbody tr th {\n        vertical-align: top;\n    }\n\n    .dataframe thead th {\n        text-align: right;\n    }\n</style>\n<table border=\"1\" class=\"dataframe\">\n  <thead>\n    <tr style=\"text-align: right;\">\n      <th></th>\n      <th>country</th>\n      <th>year</th>\n      <th>life_exp</th>\n      <th>pop</th>\n      <th>GNI</th>\n    </tr>\n  </thead>\n  <tbody>\n    <tr>\n      <th>0</th>\n      <td>Afghanistan</td>\n      <td>1800</td>\n      <td>28.2</td>\n      <td>3280000</td>\n      <td>NaN</td>\n    </tr>\n    <tr>\n      <th>1</th>\n      <td>Afghanistan</td>\n      <td>2087</td>\n      <td>75.9</td>\n      <td>76900000</td>\n      <td>NaN</td>\n    </tr>\n    <tr>\n      <th>2</th>\n      <td>Afghanistan</td>\n      <td>1814</td>\n      <td>28.1</td>\n      <td>3280000</td>\n      <td>NaN</td>\n    </tr>\n    <tr>\n      <th>3</th>\n      <td>Afghanistan</td>\n      <td>1885</td>\n      <td>28.5</td>\n      <td>4460000</td>\n      <td>NaN</td>\n    </tr>\n    <tr>\n      <th>4</th>\n      <td>Afghanistan</td>\n      <td>2016</td>\n      <td>61.2</td>\n      <td>35400000</td>\n      <td>2150.0</td>\n    </tr>\n  </tbody>\n</table>\n</div>"
     },
     "metadata": {},
     "execution_count": 22
    }
   ],
   "source": [
    "df1 = formatted_life.merge(formatted_pop, how='outer', on=('country', 'year')).merge(formatted_gni, how='outer', on=('country', 'year'))\n",
    "df1.GNI.fillna(method='ffill')\n",
    "df1.GNI.fillna(method='bfill')\n",
    "df1.head()"
   ]
  },
  {
   "cell_type": "code",
   "execution_count": 10,
   "metadata": {},
   "outputs": [],
   "source": [
    "df_merged.to_csv('life_pop_gni.csv')"
   ]
  },
  {
   "cell_type": "code",
   "execution_count": 23,
   "metadata": {},
   "outputs": [
    {
     "output_type": "execute_result",
     "data": {
      "text/plain": [
       "11000.0        25\n",
       "860.0          23\n",
       "10200.0        23\n",
       "Djibouti       23\n",
       "South Sudan    21\n",
       "               ..\n",
       "5300.0          1\n",
       "9140.0          1\n",
       "58300.0         1\n",
       "88700.0         1\n",
       "5330.0          1\n",
       "Name: GNI, Length: 1465, dtype: int64"
      ]
     },
     "metadata": {},
     "execution_count": 23
    }
   ],
   "source": [
    "df1.GNI.value_counts()"
   ]
  },
  {
   "cell_type": "code",
   "execution_count": null,
   "metadata": {},
   "outputs": [],
   "source": []
  }
 ]
}