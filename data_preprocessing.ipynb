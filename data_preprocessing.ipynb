{
 "metadata": {
  "language_info": {
   "codemirror_mode": {
    "name": "ipython",
    "version": 3
   },
   "file_extension": ".py",
   "mimetype": "text/x-python",
   "name": "python",
   "nbconvert_exporter": "python",
   "pygments_lexer": "ipython3",
   "version": "3.9.5"
  },
  "orig_nbformat": 2,
  "kernelspec": {
   "name": "python395jvsc74a57bd008bcf114b6799a788c3e4c5366ee28d230c9527aecb5fe8828812464fcb419b7",
   "display_name": "Python 3.9.5 64-bit (windows store)"
  },
  "metadata": {
   "interpreter": {
    "hash": "08bcf114b6799a788c3e4c5366ee28d230c9527aecb5fe8828812464fcb419b7"
   }
  }
 },
 "nbformat": 4,
 "nbformat_minor": 2,
 "cells": [
  {
   "cell_type": "code",
   "execution_count": 7,
   "metadata": {},
   "outputs": [],
   "source": [
    "import pandas as pd \n",
    "import streamlit as st\n",
    "from functools import reduce"
   ]
  },
  {
   "source": [
    "# Data Preprocessing"
   ],
   "cell_type": "markdown",
   "metadata": {}
  },
  {
   "source": [
    "1. The data contains missing values. For all three CSVs, use forward filling for imputing the missing data. Forward filling uses earlier values of the country for filling later ones (tip: there exist a Pandas function for that)"
   ],
   "cell_type": "markdown",
   "metadata": {}
  },
  {
   "cell_type": "code",
   "execution_count": 2,
   "metadata": {},
   "outputs": [],
   "source": [
    "life = pd.read_csv('C:/Users/deniz/OneDrive/Dokumente/GitHub/streamlit/life_expectancy_years.csv').fillna(method='ffill', axis=1)\n",
    "pop = pd.read_csv('C:/Users/deniz/OneDrive/Dokumente/GitHub/streamlit/population_total.csv').fillna(method='ffill', axis=1)\n",
    "gni = pd.read_csv('C:/Users/deniz/OneDrive/Dokumente/GitHub/streamlit/gnipercapita_ppp_current_international.csv').fillna(method='ffill', axis=1)\n",
    "gni = gni.fillna(method='bfill', axis=0)"
   ]
  },
  {
   "source": [
    "2. For each CSV, transform the dataframe into a so called \"tidy data format\" (see e.g. https://en.wikipedia.org/wiki/Tidy_data). Each dataframe then should have only three columns: (1) country, (2) year, (3) the KPI (that means either a) life expectancy, b) population, or 3) GNI per capita)"
   ],
   "cell_type": "markdown",
   "metadata": {}
  },
  {
   "cell_type": "code",
   "execution_count": 3,
   "metadata": {},
   "outputs": [],
   "source": [
    "formatted_life = pd.melt(life,[\"country\"], var_name=\"year\", value_name=\"life_exp\")\n",
    "formatted_life = formatted_life.sort_values(by=[\"country\"])"
   ]
  },
  {
   "cell_type": "code",
   "execution_count": 4,
   "metadata": {},
   "outputs": [
    {
     "output_type": "execute_result",
     "data": {
      "text/plain": [
       "           country  year       pop\n",
       "0      Afghanistan  1800   3280000\n",
       "53625  Afghanistan  2075  76200000\n",
       "5070   Afghanistan  1826   3370000\n",
       "56355  Afghanistan  2089  76800000\n",
       "9165   Afghanistan  1847   3700000\n",
       "49530  Afghanistan  2054  67400000\n",
       "12090  Afghanistan  1862   3980000\n",
       "24180  Afghanistan  1924   9200000\n",
       "34515  Afghanistan  1977  13200000\n",
       "29835  Afghanistan  1953   8040000"
      ],
      "text/html": "<div>\n<style scoped>\n    .dataframe tbody tr th:only-of-type {\n        vertical-align: middle;\n    }\n\n    .dataframe tbody tr th {\n        vertical-align: top;\n    }\n\n    .dataframe thead th {\n        text-align: right;\n    }\n</style>\n<table border=\"1\" class=\"dataframe\">\n  <thead>\n    <tr style=\"text-align: right;\">\n      <th></th>\n      <th>country</th>\n      <th>year</th>\n      <th>pop</th>\n    </tr>\n  </thead>\n  <tbody>\n    <tr>\n      <th>0</th>\n      <td>Afghanistan</td>\n      <td>1800</td>\n      <td>3280000</td>\n    </tr>\n    <tr>\n      <th>53625</th>\n      <td>Afghanistan</td>\n      <td>2075</td>\n      <td>76200000</td>\n    </tr>\n    <tr>\n      <th>5070</th>\n      <td>Afghanistan</td>\n      <td>1826</td>\n      <td>3370000</td>\n    </tr>\n    <tr>\n      <th>56355</th>\n      <td>Afghanistan</td>\n      <td>2089</td>\n      <td>76800000</td>\n    </tr>\n    <tr>\n      <th>9165</th>\n      <td>Afghanistan</td>\n      <td>1847</td>\n      <td>3700000</td>\n    </tr>\n    <tr>\n      <th>49530</th>\n      <td>Afghanistan</td>\n      <td>2054</td>\n      <td>67400000</td>\n    </tr>\n    <tr>\n      <th>12090</th>\n      <td>Afghanistan</td>\n      <td>1862</td>\n      <td>3980000</td>\n    </tr>\n    <tr>\n      <th>24180</th>\n      <td>Afghanistan</td>\n      <td>1924</td>\n      <td>9200000</td>\n    </tr>\n    <tr>\n      <th>34515</th>\n      <td>Afghanistan</td>\n      <td>1977</td>\n      <td>13200000</td>\n    </tr>\n    <tr>\n      <th>29835</th>\n      <td>Afghanistan</td>\n      <td>1953</td>\n      <td>8040000</td>\n    </tr>\n  </tbody>\n</table>\n</div>"
     },
     "metadata": {},
     "execution_count": 4
    }
   ],
   "source": [
    "formatted_pop = pd.melt(pop,[\"country\"], var_name=\"year\", value_name=\"pop\")\n",
    "formatted_pop = formatted_pop.sort_values(by=[\"country\"])\n",
    "formatted_pop.head(10)"
   ]
  },
  {
   "cell_type": "code",
   "execution_count": 5,
   "metadata": {},
   "outputs": [
    {
     "output_type": "execute_result",
     "data": {
      "text/plain": [
       "          country  year          GNI\n",
       "0     Afghanistan  1990  Afghanistan\n",
       "3348  Afghanistan  2008  Afghanistan\n",
       "3162  Afghanistan  2007  Afghanistan\n",
       "2976  Afghanistan  2006  Afghanistan\n",
       "5022  Afghanistan  2017       2230.0\n",
       "2790  Afghanistan  2005  Afghanistan\n",
       "2604  Afghanistan  2004  Afghanistan\n",
       "2418  Afghanistan  2003  Afghanistan\n",
       "2232  Afghanistan  2002  Afghanistan\n",
       "2046  Afghanistan  2001  Afghanistan"
      ],
      "text/html": "<div>\n<style scoped>\n    .dataframe tbody tr th:only-of-type {\n        vertical-align: middle;\n    }\n\n    .dataframe tbody tr th {\n        vertical-align: top;\n    }\n\n    .dataframe thead th {\n        text-align: right;\n    }\n</style>\n<table border=\"1\" class=\"dataframe\">\n  <thead>\n    <tr style=\"text-align: right;\">\n      <th></th>\n      <th>country</th>\n      <th>year</th>\n      <th>GNI</th>\n    </tr>\n  </thead>\n  <tbody>\n    <tr>\n      <th>0</th>\n      <td>Afghanistan</td>\n      <td>1990</td>\n      <td>Afghanistan</td>\n    </tr>\n    <tr>\n      <th>3348</th>\n      <td>Afghanistan</td>\n      <td>2008</td>\n      <td>Afghanistan</td>\n    </tr>\n    <tr>\n      <th>3162</th>\n      <td>Afghanistan</td>\n      <td>2007</td>\n      <td>Afghanistan</td>\n    </tr>\n    <tr>\n      <th>2976</th>\n      <td>Afghanistan</td>\n      <td>2006</td>\n      <td>Afghanistan</td>\n    </tr>\n    <tr>\n      <th>5022</th>\n      <td>Afghanistan</td>\n      <td>2017</td>\n      <td>2230.0</td>\n    </tr>\n    <tr>\n      <th>2790</th>\n      <td>Afghanistan</td>\n      <td>2005</td>\n      <td>Afghanistan</td>\n    </tr>\n    <tr>\n      <th>2604</th>\n      <td>Afghanistan</td>\n      <td>2004</td>\n      <td>Afghanistan</td>\n    </tr>\n    <tr>\n      <th>2418</th>\n      <td>Afghanistan</td>\n      <td>2003</td>\n      <td>Afghanistan</td>\n    </tr>\n    <tr>\n      <th>2232</th>\n      <td>Afghanistan</td>\n      <td>2002</td>\n      <td>Afghanistan</td>\n    </tr>\n    <tr>\n      <th>2046</th>\n      <td>Afghanistan</td>\n      <td>2001</td>\n      <td>Afghanistan</td>\n    </tr>\n  </tbody>\n</table>\n</div>"
     },
     "metadata": {},
     "execution_count": 5
    }
   ],
   "source": [
    "formatted_gni = pd.melt(gni,[\"country\"], var_name=\"year\", value_name=\"GNI\")\n",
    "formatted_gni = formatted_gni.sort_values(by=[\"country\"])\n",
    "formatted_gni.head(10)"
   ]
  },
  {
   "source": [
    "3. You have to merge all three CVS. Merge the three dataframe into one dataframe, that just has 5 columns (country, year and all three KPIs from the three dataframes)"
   ],
   "cell_type": "markdown",
   "metadata": {}
  },
  {
   "cell_type": "code",
   "execution_count": 13,
   "metadata": {},
   "outputs": [
    {
     "output_type": "execute_result",
     "data": {
      "text/plain": [
       "11000.0        24\n",
       "Djibouti       23\n",
       "860.0          23\n",
       "10200.0        23\n",
       "South Sudan    21\n",
       "               ..\n",
       "40000.0         1\n",
       "72200.0         1\n",
       "9270.0          1\n",
       "53600.0         1\n",
       "65600.0         1\n",
       "Name: GNI, Length: 1459, dtype: int64"
      ]
     },
     "metadata": {},
     "execution_count": 13
    }
   ],
   "source": [
    "data_frames = [formatted_life, formatted_pop, formatted_gni]\n",
    "df_merged = reduce(lambda  left,right: pd.merge(left,right,on=['country', 'year'], how='inner'), data_frames)\n",
    "df_merged.GNI.value_counts()"
   ]
  },
  {
   "cell_type": "code",
   "execution_count": 10,
   "metadata": {},
   "outputs": [],
   "source": [
    "df_merged.to_csv('life_pop_gni.csv')"
   ]
  },
  {
   "cell_type": "code",
   "execution_count": null,
   "metadata": {},
   "outputs": [],
   "source": [
    "df"
   ]
  }
 ]
}